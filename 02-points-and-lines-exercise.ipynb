{
 "cells": [
  {
   "cell_type": "code",
   "execution_count": null,
   "id": "835a1134-f022-4464-b5a0-649cad5c7c71",
   "metadata": {},
   "outputs": [],
   "source": [
    "import matplotlib.pyplot as plt\n",
    "\n",
    "from shapely import Point, LineString, from_wkt\n",
    "from shapely.plotting import plot_line, plot_points"
   ]
  },
  {
   "cell_type": "code",
   "execution_count": null,
   "id": "933f0d0e-33c8-4539-a3ae-cde60f4ed09d",
   "metadata": {},
   "outputs": [],
   "source": [
    "import better_css\n",
    "better_css.fix_css()"
   ]
  },
  {
   "cell_type": "markdown",
   "id": "cacf252e-f53b-477c-b63e-b57733cb276f",
   "metadata": {},
   "source": [
    "### Open `alexander.wkt`, read its contents and parse Read the route for alexander river from the alex.wkt using from_wkt and plot it"
   ]
  },
  {
   "cell_type": "code",
   "execution_count": null,
   "id": "c4b677c1-9db3-491e-96bf-e0fc488a8d69",
   "metadata": {},
   "outputs": [],
   "source": []
  },
  {
   "cell_type": "code",
   "execution_count": null,
   "id": "4033902b-6c75-4cc1-aff6-633bbda94439",
   "metadata": {},
   "outputs": [],
   "source": []
  },
  {
   "cell_type": "markdown",
   "id": "bea3f4f7-643c-4897-9abf-ac803268d8ec",
   "metadata": {},
   "source": [
    "## What's the length of the Alexander river?"
   ]
  },
  {
   "cell_type": "code",
   "execution_count": null,
   "id": "76173e57-de85-4ba9-8edd-5993e42117cf",
   "metadata": {},
   "outputs": [],
   "source": []
  },
  {
   "cell_type": "code",
   "execution_count": null,
   "id": "c9f07380-44c0-4a4c-817f-fffd23139d73",
   "metadata": {},
   "outputs": [],
   "source": []
  },
  {
   "cell_type": "markdown",
   "id": "593bc82d-446a-443f-9f99-8569e6427a04",
   "metadata": {},
   "source": [
    "### What is the aerial distance between the start and the end of the river? Use .boundary and/or .coords "
   ]
  },
  {
   "cell_type": "code",
   "execution_count": null,
   "id": "3d768aae-01ac-4431-afe2-0689f7331e46",
   "metadata": {},
   "outputs": [],
   "source": []
  },
  {
   "cell_type": "code",
   "execution_count": null,
   "id": "86281e1f-d179-4a10-ac1c-6d9351eab272",
   "metadata": {},
   "outputs": [],
   "source": []
  },
  {
   "cell_type": "markdown",
   "id": "a422d666-025e-430c-8df1-f826e795498e",
   "metadata": {},
   "source": [
    "### We are going to walk from the beach to the start of the river. Use line.interpolate() to draw a point every 5km.\n",
    "- *Tip: Tip: Use `add_points=False` to `plot_lines`*. You can also specify a color using `color=`\n",
    "- *Bonus: use `plt.annotate(\"hello\", (x,y))` to add km marks*"
   ]
  },
  {
   "cell_type": "code",
   "execution_count": null,
   "id": "81e18e82-f18d-4bc6-bde9-faec9b73f488",
   "metadata": {},
   "outputs": [],
   "source": []
  },
  {
   "cell_type": "code",
   "execution_count": null,
   "id": "bb6f4592-db8e-46fe-966a-7b569c5d10dc",
   "metadata": {},
   "outputs": [],
   "source": []
  },
  {
   "cell_type": "markdown",
   "id": "a1d31476-00bf-4aff-8dd4-37c1ae7630ae",
   "metadata": {},
   "source": [
    "### Read the entire railway system of Israel from `rails.wkt`, inspect it and draw it. What is the length of the rail system?\n"
   ]
  },
  {
   "cell_type": "code",
   "execution_count": null,
   "id": "d08c21c6-031c-4f8c-a5f9-deea2ee443da",
   "metadata": {},
   "outputs": [],
   "source": []
  },
  {
   "cell_type": "code",
   "execution_count": null,
   "id": "6bd1d2d6-936d-4c88-81ea-24debab12723",
   "metadata": {},
   "outputs": [],
   "source": []
  },
  {
   "cell_type": "markdown",
   "id": "063e1112-e092-41c4-8f94-1946583a7751",
   "metadata": {},
   "source": [
    "### Draw it again, this time alongside the alexander river."
   ]
  },
  {
   "cell_type": "code",
   "execution_count": null,
   "id": "3ecf60e6-dad4-476b-ac76-c5b472d2520c",
   "metadata": {},
   "outputs": [],
   "source": []
  },
  {
   "cell_type": "code",
   "execution_count": null,
   "id": "cc528f3f-ac39-4000-a0d7-74017e190cf0",
   "metadata": {},
   "outputs": [],
   "source": []
  },
  {
   "cell_type": "markdown",
   "id": "60700de9-af85-4a57-a8de-df8f6adf3883",
   "metadata": {},
   "source": [
    "### Where does the the alexander river meet the railway? print the coords and draw the map again with the point on it"
   ]
  },
  {
   "cell_type": "code",
   "execution_count": null,
   "id": "64b2f2d1-45e6-4273-b631-285ab49f928c",
   "metadata": {},
   "outputs": [],
   "source": []
  },
  {
   "cell_type": "code",
   "execution_count": null,
   "id": "4b49b49a-78f3-4bc9-9bdf-afee1da59e31",
   "metadata": {},
   "outputs": [],
   "source": []
  },
  {
   "cell_type": "markdown",
   "id": "eb4497fa-1722-4997-bc3a-fe82e6a85b27",
   "metadata": {},
   "source": [
    "### Load the Yarqon river route from `yarkon.wkt`.  How many times it crosses the railways?  Draw all points, and use `line.project` to display the distance from the ocean to exch point."
   ]
  },
  {
   "cell_type": "code",
   "execution_count": null,
   "id": "259194dd-ff1f-4b64-b2ab-6078f86a70d8",
   "metadata": {},
   "outputs": [],
   "source": []
  },
  {
   "cell_type": "code",
   "execution_count": null,
   "id": "2186c094-bb0f-4eac-99c7-269682327841",
   "metadata": {},
   "outputs": [],
   "source": []
  }
 ],
 "metadata": {
  "kernelspec": {
   "display_name": "Python 3 (ipykernel)",
   "language": "python",
   "name": "python3"
  },
  "language_info": {
   "codemirror_mode": {
    "name": "ipython",
    "version": 3
   },
   "file_extension": ".py",
   "mimetype": "text/x-python",
   "name": "python",
   "nbconvert_exporter": "python",
   "pygments_lexer": "ipython3",
   "version": "3.11.3"
  }
 },
 "nbformat": 4,
 "nbformat_minor": 5
}
