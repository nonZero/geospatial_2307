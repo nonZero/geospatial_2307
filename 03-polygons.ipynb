{
 "cells": [
  {
   "cell_type": "code",
   "execution_count": 1,
   "id": "835a1134-f022-4464-b5a0-649cad5c7c71",
   "metadata": {},
   "outputs": [],
   "source": [
    "import matplotlib.pyplot as plt\n",
    "\n",
    "from shapely import Point, LineString, Polygon, from_wkt, from_geojson\n",
    "from shapely.plotting import plot_line, plot_points, plot_polygon"
   ]
  },
  {
   "cell_type": "code",
   "execution_count": 2,
   "id": "933f0d0e-33c8-4539-a3ae-cde60f4ed09d",
   "metadata": {},
   "outputs": [
    {
     "data": {
      "text/html": [
       "<style>h3 {\n",
       "    color: white;\n",
       "    background-color: black;\n",
       "    padding: 0.5em;\n",
       "}\n",
       "body {\n",
       "    margin: 0;\n",
       "    font-family: Helvetica;\n",
       "}\n",
       "table.dataframe {\n",
       "    border-collapse: collapse;\n",
       "    border: none;\n",
       "}\n",
       "table.dataframe tr {\n",
       "    border: none;\n",
       "}\n",
       "table.dataframe td, table.dataframe th {\n",
       "    margin: 0;\n",
       "    border: 1px solid white;\n",
       "    padding-left: 0.25em;\n",
       "    padding-right: 0.25em;\n",
       "}\n",
       "table.dataframe th:not(:empty) {\n",
       "    background-color: #fec;\n",
       "    text-align: left;\n",
       "    font-weight: normal;\n",
       "}\n",
       "table.dataframe tr:nth-child(2) th:empty {\n",
       "    border-left: none;\n",
       "    border-right: 1px dashed #888;\n",
       "}\n",
       "table.dataframe td {\n",
       "    border: 2px solid #ccf;\n",
       "    background-color: #f4f4ff;\n",
       "}</style>"
      ],
      "text/plain": [
       "<IPython.core.display.HTML object>"
      ]
     },
     "execution_count": 2,
     "metadata": {},
     "output_type": "execute_result"
    }
   ],
   "source": [
    "import better_css\n",
    "better_css.fix_css()"
   ]
  },
  {
   "cell_type": "markdown",
   "id": "cacf252e-f53b-477c-b63e-b57733cb276f",
   "metadata": {},
   "source": [
    "### Load all bus stops in Tel Aviv from `bus_stops_tlv.geojson' and show them. How many bus stops were loaded?"
   ]
  },
  {
   "cell_type": "code",
   "execution_count": null,
   "id": "c4b677c1-9db3-491e-96bf-e0fc488a8d69",
   "metadata": {},
   "outputs": [],
   "source": []
  },
  {
   "cell_type": "code",
   "execution_count": null,
   "id": "4033902b-6c75-4cc1-aff6-633bbda94439",
   "metadata": {},
   "outputs": [],
   "source": []
  },
  {
   "cell_type": "markdown",
   "id": "bea3f4f7-643c-4897-9abf-ac803268d8ec",
   "metadata": {},
   "source": [
    "### Read Tel Aviv's boundary from `tlv.geojson`. Plot it and the bus stops. What is the area of tel aviv?"
   ]
  },
  {
   "cell_type": "code",
   "execution_count": null,
   "id": "76173e57-de85-4ba9-8edd-5993e42117cf",
   "metadata": {},
   "outputs": [],
   "source": []
  },
  {
   "cell_type": "code",
   "execution_count": null,
   "id": "c9f07380-44c0-4a4c-817f-fffd23139d73",
   "metadata": {},
   "outputs": [],
   "source": []
  },
  {
   "cell_type": "markdown",
   "id": "593bc82d-446a-443f-9f99-8569e6427a04",
   "metadata": {},
   "source": [
    "### How big is the area in Tel Aviv reachable 150 meters away (aerial distance) from a bus stop?"
   ]
  },
  {
   "cell_type": "code",
   "execution_count": null,
   "id": "3d768aae-01ac-4431-afe2-0689f7331e46",
   "metadata": {},
   "outputs": [],
   "source": []
  },
  {
   "cell_type": "code",
   "execution_count": null,
   "id": "86281e1f-d179-4a10-ac1c-6d9351eab272",
   "metadata": {},
   "outputs": [],
   "source": []
  },
  {
   "cell_type": "markdown",
   "id": "f3281893-2380-44f8-8b5f-70eb6b71d1ee",
   "metadata": {},
   "source": [
    "### What is the percentage of area  in Tel Aviv reachable 150 meters away (aerila distance) from a bus stop (out of the whole city)?\n"
   ]
  },
  {
   "cell_type": "code",
   "execution_count": null,
   "id": "81e18e82-f18d-4bc6-bde9-faec9b73f488",
   "metadata": {},
   "outputs": [],
   "source": []
  },
  {
   "cell_type": "code",
   "execution_count": null,
   "id": "bb6f4592-db8e-46fe-966a-7b569c5d10dc",
   "metadata": {},
   "outputs": [],
   "source": []
  },
  {
   "cell_type": "markdown",
   "id": "a422d666-025e-430c-8df1-f826e795498e",
   "metadata": {},
   "source": [
    "### How big is the area in Tel Aviv unreachable 150 meters away (aerial distance) from a bus stop? Plot it in a map"
   ]
  },
  {
   "cell_type": "code",
   "execution_count": null,
   "id": "a75a79fe-26e2-4bf6-8b7f-f2f5582bf3ce",
   "metadata": {},
   "outputs": [],
   "source": []
  },
  {
   "cell_type": "code",
   "execution_count": null,
   "id": "79677e82-11ac-4438-98fc-1238939a2f2f",
   "metadata": {},
   "outputs": [],
   "source": []
  }
 ],
 "metadata": {
  "kernelspec": {
   "display_name": "Python 3 (ipykernel)",
   "language": "python",
   "name": "python3"
  },
  "language_info": {
   "codemirror_mode": {
    "name": "ipython",
    "version": 3
   },
   "file_extension": ".py",
   "mimetype": "text/x-python",
   "name": "python",
   "nbconvert_exporter": "python",
   "pygments_lexer": "ipython3",
   "version": "3.11.3"
  }
 },
 "nbformat": 4,
 "nbformat_minor": 5
}
